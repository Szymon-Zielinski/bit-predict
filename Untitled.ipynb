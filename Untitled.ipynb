{
 "cells": [
  {
   "cell_type": "code",
   "execution_count": 1,
   "id": "dc6ac7b6-34da-4d0e-8814-424f84d986ef",
   "metadata": {},
   "outputs": [
    {
     "name": "stderr",
     "output_type": "stream",
     "text": [
      "2023-12-18 18:51:51.833913: I tensorflow/core/util/port.cc:113] oneDNN custom operations are on. You may see slightly different numerical results due to floating-point round-off errors from different computation orders. To turn them off, set the environment variable `TF_ENABLE_ONEDNN_OPTS=0`.\n",
      "2023-12-18 18:51:51.850247: E external/local_xla/xla/stream_executor/cuda/cuda_dnn.cc:9261] Unable to register cuDNN factory: Attempting to register factory for plugin cuDNN when one has already been registered\n",
      "2023-12-18 18:51:51.850259: E external/local_xla/xla/stream_executor/cuda/cuda_fft.cc:607] Unable to register cuFFT factory: Attempting to register factory for plugin cuFFT when one has already been registered\n",
      "2023-12-18 18:51:51.850706: E external/local_xla/xla/stream_executor/cuda/cuda_blas.cc:1515] Unable to register cuBLAS factory: Attempting to register factory for plugin cuBLAS when one has already been registered\n",
      "2023-12-18 18:51:51.853643: I tensorflow/core/platform/cpu_feature_guard.cc:182] This TensorFlow binary is optimized to use available CPU instructions in performance-critical operations.\n",
      "To enable the following instructions: AVX2 AVX512F AVX512_VNNI AVX512_BF16 FMA, in other operations, rebuild TensorFlow with the appropriate compiler flags.\n",
      "2023-12-18 18:51:52.202592: W tensorflow/compiler/tf2tensorrt/utils/py_utils.cc:38] TF-TRT Warning: Could not find TensorRT\n"
     ]
    }
   ],
   "source": [
    "import matplotlib.pyplot as plt\n",
    "import tensorflow as tf\n",
    "from tensorflow.keras import layers"
   ]
  },
  {
   "cell_type": "code",
   "execution_count": 2,
   "id": "07b52063-2c4b-4e25-ac02-3c3a087765e7",
   "metadata": {},
   "outputs": [
    {
     "name": "stderr",
     "output_type": "stream",
     "text": [
      "2023-12-18 18:51:53.704929: I external/local_xla/xla/stream_executor/cuda/cuda_executor.cc:887] could not open file to read NUMA node: /sys/bus/pci/devices/0000:01:00.0/numa_node\n",
      "Your kernel may have been built without NUMA support.\n",
      "2023-12-18 18:51:53.717272: I external/local_xla/xla/stream_executor/cuda/cuda_executor.cc:887] could not open file to read NUMA node: /sys/bus/pci/devices/0000:01:00.0/numa_node\n",
      "Your kernel may have been built without NUMA support.\n",
      "2023-12-18 18:51:53.717305: I external/local_xla/xla/stream_executor/cuda/cuda_executor.cc:887] could not open file to read NUMA node: /sys/bus/pci/devices/0000:01:00.0/numa_node\n",
      "Your kernel may have been built without NUMA support.\n"
     ]
    },
    {
     "data": {
      "text/plain": [
       "[PhysicalDevice(name='/physical_device:CPU:0', device_type='CPU'),\n",
       " PhysicalDevice(name='/physical_device:GPU:0', device_type='GPU')]"
      ]
     },
     "execution_count": 2,
     "metadata": {},
     "output_type": "execute_result"
    }
   ],
   "source": [
    "tf.config.list_physical_devices()"
   ]
  },
  {
   "cell_type": "code",
   "execution_count": 3,
   "id": "a0b34372-0fe0-4863-b4f6-c7e83987d84f",
   "metadata": {},
   "outputs": [],
   "source": [
    "(X_train,y_train),(X_test,y_test) = tf.keras.datasets.mnist.load_data()"
   ]
  },
  {
   "cell_type": "code",
   "execution_count": 4,
   "id": "2722c2d9-53d4-4f6a-a956-d00bcf5b08a1",
   "metadata": {},
   "outputs": [
    {
     "data": {
      "text/plain": [
       "''"
      ]
     },
     "execution_count": 4,
     "metadata": {},
     "output_type": "execute_result"
    },
    {
     "data": {
      "image/png": "[encoded data removed]",
      "text/plain": [
       "<Figure size 640x480 with 4 Axes>"
      ]
     },
     "metadata": {},
     "output_type": "display_data"
    }
   ],
   "source": [
    "\n",
    "fig, ax = plt.subplots(2,2)\n",
    "ax[0,0].imshow(X_train[0])\n",
    "ax[0,1].imshow(X_train[1])\n",
    "ax[1,0].imshow(X_train[2])\n",
    "ax[1,1].imshow(X_train[3])\n",
    ";"
   ]
  },
  {
   "cell_type": "code",
   "execution_count": 5,
   "id": "2f76cd4c-9732-4642-bae0-6b203d1e5571",
   "metadata": {},
   "outputs": [],
   "source": [
    "X_train = X_train/ 255.0\n",
    "X_test = X_test / 255.0\n"
   ]
  },
  {
   "cell_type": "code",
   "execution_count": 6,
   "id": "9aa61e21-44cd-4814-9583-172c7e97ad04",
   "metadata": {},
   "outputs": [
    {
     "name": "stderr",
     "output_type": "stream",
     "text": [
      "2023-12-18 18:51:55.434548: I external/local_xla/xla/stream_executor/cuda/cuda_executor.cc:887] could not open file to read NUMA node: /sys/bus/pci/devices/0000:01:00.0/numa_node\n",
      "Your kernel may have been built without NUMA support.\n",
      "2023-12-18 18:51:55.434603: I external/local_xla/xla/stream_executor/cuda/cuda_executor.cc:887] could not open file to read NUMA node: /sys/bus/pci/devices/0000:01:00.0/numa_node\n",
      "Your kernel may have been built without NUMA support.\n",
      "2023-12-18 18:51:55.434625: I external/local_xla/xla/stream_executor/cuda/cuda_executor.cc:887] could not open file to read NUMA node: /sys/bus/pci/devices/0000:01:00.0/numa_node\n",
      "Your kernel may have been built without NUMA support.\n",
      "2023-12-18 18:51:55.527808: I external/local_xla/xla/stream_executor/cuda/cuda_executor.cc:887] could not open file to read NUMA node: /sys/bus/pci/devices/0000:01:00.0/numa_node\n",
      "Your kernel may have been built without NUMA support.\n",
      "2023-12-18 18:51:55.527872: I external/local_xla/xla/stream_executor/cuda/cuda_executor.cc:887] could not open file to read NUMA node: /sys/bus/pci/devices/0000:01:00.0/numa_node\n",
      "Your kernel may have been built without NUMA support.\n",
      "2023-12-18 18:51:55.527884: I tensorflow/core/common_runtime/gpu/gpu_device.cc:2022] Could not identify NUMA node of platform GPU id 0, defaulting to 0.  Your kernel may not have been built with NUMA support.\n",
      "2023-12-18 18:51:55.527928: I external/local_xla/xla/stream_executor/cuda/cuda_executor.cc:887] could not open file to read NUMA node: /sys/bus/pci/devices/0000:01:00.0/numa_node\n",
      "Your kernel may have been built without NUMA support.\n",
      "2023-12-18 18:51:55.527945: I tensorflow/core/common_runtime/gpu/gpu_device.cc:1929] Created device /job:localhost/replica:0/task:0/device:GPU:0 with 9294 MB memory:  -> device: 0, name: NVIDIA GeForce RTX 4070 Ti, pci bus id: 0000:01:00.0, compute capability: 8.9\n"
     ]
    },
    {
     "name": "stdout",
     "output_type": "stream",
     "text": [
      "Epoch 1/3\n"
     ]
    },
    {
     "name": "stderr",
     "output_type": "stream",
     "text": [
      "2023-12-18 18:51:57.162420: I external/local_xla/xla/stream_executor/cuda/cuda_dnn.cc:454] Loaded cuDNN version 8904\n",
      "2023-12-18 18:51:57.329007: I external/local_tsl/tsl/platform/default/subprocess.cc:304] Start cannot spawn child process: No such file or directory\n",
      "2023-12-18 18:51:57.508173: I external/local_tsl/tsl/platform/default/subprocess.cc:304] Start cannot spawn child process: No such file or directory\n",
      "2023-12-18 18:51:57.563505: I external/local_xla/xla/service/service.cc:168] XLA service 0x7f7788d76c20 initialized for platform CUDA (this does not guarantee that XLA will be used). Devices:\n",
      "2023-12-18 18:51:57.563530: I external/local_xla/xla/service/service.cc:176]   StreamExecutor device (0): NVIDIA GeForce RTX 4070 Ti, Compute Capability 8.9\n",
      "2023-12-18 18:51:57.566386: I tensorflow/compiler/mlir/tensorflow/utils/dump_mlir_util.cc:269] disabling MLIR crash reproducer, set env var `MLIR_CRASH_REPRODUCER_DIRECTORY` to enable.\n",
      "WARNING: All log messages before absl::InitializeLog() is called are written to STDERR\n",
      "I0000 00:00:1702921917.620494    3423 device_compiler.h:186] Compiled cluster using XLA!  This line is logged at most once for the lifetime of the process.\n"
     ]
    },
    {
     "name": "stdout",
     "output_type": "stream",
     "text": [
      "1875/1875 [==============================] - 14s 6ms/step - loss: 0.1626 - accuracy: 0.9481 - val_loss: 0.1048 - val_accuracy: 0.9700\n",
      "Epoch 2/3\n",
      "1875/1875 [==============================] - 11s 6ms/step - loss: 0.0566 - accuracy: 0.9839 - val_loss: 0.0493 - val_accuracy: 0.9852\n",
      "Epoch 3/3\n",
      "1875/1875 [==============================] - 12s 6ms/step - loss: 0.0435 - accuracy: 0.9881 - val_loss: 0.0575 - val_accuracy: 0.9852\n",
      "CPU times: user 32.7 s, sys: 8.36 s, total: 41.1 s\n",
      "Wall time: 38.1 s\n"
     ]
    },
    {
     "data": {
      "text/plain": [
       "<keras.src.callbacks.History at 0x7f7951f3f3a0>"
      ]
     },
     "execution_count": 6,
     "metadata": {},
     "output_type": "execute_result"
    }
   ],
   "source": [
    "%%time\n",
    "model_1 = tf.keras.Sequential()\n",
    "model_1.add(layers.Input(shape=(28, 28, 1)))\n",
    "model_1.add(layers.Conv2D(512, (3, 3), activation='relu', padding='same'))\n",
    "model_1.add(layers.MaxPooling2D(3, 3))\n",
    "model_1.add(layers.Conv2D(512, (3, 3), activation='relu', padding='same'))\n",
    "model_1.add(layers.MaxPooling2D(3, 3))\n",
    "model_1.add(layers.Conv2D(512, (3, 3), activation='relu', padding='same'))\n",
    "model_1.add(layers.MaxPooling2D(3, 3))\n",
    "model_1.add(layers.Flatten())\n",
    "model_1.add(layers.Dense(128, activation='relu'))\n",
    "model_1.add(layers.Dense(128, activation='relu'))\n",
    "model_1.add(layers.Dense(128, activation='relu'))\n",
    "model_1.add(layers.Dense(128, activation='relu'))\n",
    "model_1.add(layers.Dense(10, activation='softmax'))\n",
    "\n",
    "# Compile the model\n",
    "model_1.compile(optimizer='adam',\n",
    "                loss='sparse_categorical_crossentropy',\n",
    "                metrics=['accuracy'])\n",
    "\n",
    "# Print model summary for inspection\n",
    "\n",
    "\n",
    "# Assuming your data is properly loaded as X_train, y_train, X_test, y_test\n",
    "model_1.fit(X_train, y_train, epochs=3, validation_data=(X_test, y_test), callbacks=[tf.keras.callbacks.EarlyStopping(monitor='val_loss', patience=5)])\n"
   ]
  },
  {
   "cell_type": "code",
   "execution_count": null,
   "id": "a1b1a193-f97f-4cde-afc3-c12348bb1e35",
   "metadata": {},
   "outputs": [],
   "source": []
  },
  {
   "cell_type": "code",
   "execution_count": 12,
   "id": "3e043fbb-8c34-4bdb-b013-15a3e1ad0c74",
   "metadata": {},
   "outputs": [],
   "source": [
    "matrix_size = 1000\n",
    "a = tf.random.normal((matrix_size, matrix_size))\n",
    "b = tf.random.normal((matrix_size, matrix_size))\n"
   ]
  },
  {
   "cell_type": "code",
   "execution_count": 13,
   "id": "5bb6edb4-d94e-4582-9975-2ebf605011e1",
   "metadata": {},
   "outputs": [],
   "source": [
    "with tf.device('/GPU:0'):\n",
    "    tf.matmul(a, b)\n",
    "start_time_gpu = time.time()\n",
    "with tf.device('/GPU:0'):\n",
    "    result_gpu = tf.matmul(a, b)\n",
    "end_time_gpu = time.time()\n"
   ]
  },
  {
   "cell_type": "code",
   "execution_count": 14,
   "id": "7825da41-fa7e-4e79-8e03-8fc29b0dc332",
   "metadata": {},
   "outputs": [],
   "source": [
    "with tf.device('/CPU:0'):\n",
    "    tf.matmul(a, b)\n",
    "start_time_cpu = time.time()\n",
    "with tf.device('/CPU:0'):\n",
    "    result_cpu = tf.matmul(a, b)\n",
    "end_time_cpu = time.time()\n"
   ]
  },
  {
   "cell_type": "code",
   "execution_count": 15,
   "id": "14e828e9-e1f8-42d1-a33d-56a7127ce69e",
   "metadata": {},
   "outputs": [
    {
     "data": {
      "text/plain": [
       "1702559910.7867398"
      ]
     },
     "execution_count": 15,
     "metadata": {},
     "output_type": "execute_result"
    }
   ],
   "source": [
    "end_time_gpu"
   ]
  },
  {
   "cell_type": "code",
   "execution_count": 16,
   "id": "f0e61f03-8f1c-44e7-ace1-9dfca5df0f8d",
   "metadata": {},
   "outputs": [
    {
     "data": {
      "text/plain": [
       "1702559929.6425042"
      ]
     },
     "execution_count": 16,
     "metadata": {},
     "output_type": "execute_result"
    }
   ],
   "source": [
    "end_time_cpu"
   ]
  },
  {
   "cell_type": "code",
   "execution_count": 21,
   "id": "906e29cf-4485-4e74-8331-7c901a49b104",
   "metadata": {},
   "outputs": [
    {
     "name": "stdout",
     "output_type": "stream",
     "text": [
      "Default GPU Device: /device:GPU:0\n"
     ]
    },
    {
     "name": "stderr",
     "output_type": "stream",
     "text": [
      "2023-12-14 14:27:50.674883: I external/local_xla/xla/stream_executor/cuda/cuda_executor.cc:887] could not open file to read NUMA node: /sys/bus/pci/devices/0000:01:00.0/numa_node\n",
      "Your kernel may have been built without NUMA support.\n",
      "2023-12-14 14:27:50.674953: I external/local_xla/xla/stream_executor/cuda/cuda_executor.cc:887] could not open file to read NUMA node: /sys/bus/pci/devices/0000:01:00.0/numa_node\n",
      "Your kernel may have been built without NUMA support.\n",
      "2023-12-14 14:27:50.674979: I external/local_xla/xla/stream_executor/cuda/cuda_executor.cc:887] could not open file to read NUMA node: /sys/bus/pci/devices/0000:01:00.0/numa_node\n",
      "Your kernel may have been built without NUMA support.\n",
      "2023-12-14 14:27:50.675178: I external/local_xla/xla/stream_executor/cuda/cuda_executor.cc:887] could not open file to read NUMA node: /sys/bus/pci/devices/0000:01:00.0/numa_node\n",
      "Your kernel may have been built without NUMA support.\n",
      "2023-12-14 14:27:50.675188: I tensorflow/core/common_runtime/gpu/gpu_device.cc:2022] Could not identify NUMA node of platform GPU id 0, defaulting to 0.  Your kernel may not have been built with NUMA support.\n",
      "2023-12-14 14:27:50.675222: I external/local_xla/xla/stream_executor/cuda/cuda_executor.cc:887] could not open file to read NUMA node: /sys/bus/pci/devices/0000:01:00.0/numa_node\n",
      "Your kernel may have been built without NUMA support.\n",
      "2023-12-14 14:27:50.675232: I tensorflow/core/common_runtime/gpu/gpu_device.cc:1929] Created device /device:GPU:0 with 9328 MB memory:  -> device: 0, name: NVIDIA GeForce RTX 4070 Ti, pci bus id: 0000:01:00.0, compute capability: 8.9\n",
      "2023-12-14 14:27:50.675304: I external/local_xla/xla/stream_executor/cuda/cuda_executor.cc:887] could not open file to read NUMA node: /sys/bus/pci/devices/0000:01:00.0/numa_node\n",
      "Your kernel may have been built without NUMA support.\n",
      "2023-12-14 14:27:50.675326: I external/local_xla/xla/stream_executor/cuda/cuda_executor.cc:887] could not open file to read NUMA node: /sys/bus/pci/devices/0000:01:00.0/numa_node\n",
      "Your kernel may have been built without NUMA support.\n",
      "2023-12-14 14:27:50.675344: I external/local_xla/xla/stream_executor/cuda/cuda_executor.cc:887] could not open file to read NUMA node: /sys/bus/pci/devices/0000:01:00.0/numa_node\n",
      "Your kernel may have been built without NUMA support.\n",
      "2023-12-14 14:27:50.675428: I external/local_xla/xla/stream_executor/cuda/cuda_executor.cc:887] could not open file to read NUMA node: /sys/bus/pci/devices/0000:01:00.0/numa_node\n",
      "Your kernel may have been built without NUMA support.\n",
      "2023-12-14 14:27:50.675436: I tensorflow/core/common_runtime/gpu/gpu_device.cc:2022] Could not identify NUMA node of platform GPU id 0, defaulting to 0.  Your kernel may not have been built with NUMA support.\n",
      "2023-12-14 14:27:50.675466: I external/local_xla/xla/stream_executor/cuda/cuda_executor.cc:887] could not open file to read NUMA node: /sys/bus/pci/devices/0000:01:00.0/numa_node\n",
      "Your kernel may have been built without NUMA support.\n",
      "2023-12-14 14:27:50.675473: I tensorflow/core/common_runtime/gpu/gpu_device.cc:1929] Created device /device:GPU:0 with 9328 MB memory:  -> device: 0, name: NVIDIA GeForce RTX 4070 Ti, pci bus id: 0000:01:00.0, compute capability: 8.9\n",
      "2023-12-14 14:28:00.676796: W external/local_tsl/tsl/framework/bfc_allocator.cc:485] Allocator (GPU_0_bfc) ran out of memory trying to allocate 1.42PiB (rounded to 1600000000000000)requested by op RandomStandardNormal\n",
      "If the cause is memory fragmentation maybe the environment variable 'TF_GPU_ALLOCATOR=cuda_malloc_async' will improve the situation. \n",
      "Current allocation summary follows.\n",
      "Current allocation summary follows.\n",
      "2023-12-14 14:28:00.676844: I external/local_tsl/tsl/framework/bfc_allocator.cc:1039] BFCAllocator dump for GPU_0_bfc\n",
      "2023-12-14 14:28:00.676854: I external/local_tsl/tsl/framework/bfc_allocator.cc:1046] Bin (256): \tTotal Chunks: 13, Chunks in use: 12. 3.2KiB allocated for chunks. 3.0KiB in use in bin. 83B client-requested in use in bin.\n",
      "2023-12-14 14:28:00.676859: I external/local_tsl/tsl/framework/bfc_allocator.cc:1046] Bin (512): \tTotal Chunks: 0, Chunks in use: 0. 0B allocated for chunks. 0B in use in bin. 0B client-requested in use in bin.\n",
      "2023-12-14 14:28:00.676863: I external/local_tsl/tsl/framework/bfc_allocator.cc:1046] Bin (1024): \tTotal Chunks: 1, Chunks in use: 1. 1.2KiB allocated for chunks. 1.2KiB in use in bin. 1.0KiB client-requested in use in bin.\n",
      "2023-12-14 14:28:00.676866: I external/local_tsl/tsl/framework/bfc_allocator.cc:1046] Bin (2048): \tTotal Chunks: 0, Chunks in use: 0. 0B allocated for chunks. 0B in use in bin. 0B client-requested in use in bin.\n",
      "2023-12-14 14:28:00.676869: I external/local_tsl/tsl/framework/bfc_allocator.cc:1046] Bin (4096): \tTotal Chunks: 0, Chunks in use: 0. 0B allocated for chunks. 0B in use in bin. 0B client-requested in use in bin.\n",
      "2023-12-14 14:28:00.676871: I external/local_tsl/tsl/framework/bfc_allocator.cc:1046] Bin (8192): \tTotal Chunks: 0, Chunks in use: 0. 0B allocated for chunks. 0B in use in bin. 0B client-requested in use in bin.\n",
      "2023-12-14 14:28:00.676873: I external/local_tsl/tsl/framework/bfc_allocator.cc:1046] Bin (16384): \tTotal Chunks: 0, Chunks in use: 0. 0B allocated for chunks. 0B in use in bin. 0B client-requested in use in bin.\n",
      "2023-12-14 14:28:00.676876: I external/local_tsl/tsl/framework/bfc_allocator.cc:1046] Bin (32768): \tTotal Chunks: 0, Chunks in use: 0. 0B allocated for chunks. 0B in use in bin. 0B client-requested in use in bin.\n",
      "2023-12-14 14:28:00.676878: I external/local_tsl/tsl/framework/bfc_allocator.cc:1046] Bin (65536): \tTotal Chunks: 0, Chunks in use: 0. 0B allocated for chunks. 0B in use in bin. 0B client-requested in use in bin.\n",
      "2023-12-14 14:28:00.676881: I external/local_tsl/tsl/framework/bfc_allocator.cc:1046] Bin (131072): \tTotal Chunks: 0, Chunks in use: 0. 0B allocated for chunks. 0B in use in bin. 0B client-requested in use in bin.\n",
      "2023-12-14 14:28:00.676883: I external/local_tsl/tsl/framework/bfc_allocator.cc:1046] Bin (262144): \tTotal Chunks: 0, Chunks in use: 0. 0B allocated for chunks. 0B in use in bin. 0B client-requested in use in bin.\n",
      "2023-12-14 14:28:00.676887: I external/local_tsl/tsl/framework/bfc_allocator.cc:1046] Bin (524288): \tTotal Chunks: 1, Chunks in use: 0. 975.8KiB allocated for chunks. 0B in use in bin. 0B client-requested in use in bin.\n",
      "2023-12-14 14:28:00.676889: I external/local_tsl/tsl/framework/bfc_allocator.cc:1046] Bin (1048576): \tTotal Chunks: 0, Chunks in use: 0. 0B allocated for chunks. 0B in use in bin. 0B client-requested in use in bin.\n",
      "2023-12-14 14:28:00.676893: I external/local_tsl/tsl/framework/bfc_allocator.cc:1046] Bin (2097152): \tTotal Chunks: 12, Chunks in use: 11. 44.82MiB allocated for chunks. 41.96MiB in use in bin. 41.96MiB client-requested in use in bin.\n",
      "2023-12-14 14:28:00.676896: I external/local_tsl/tsl/framework/bfc_allocator.cc:1046] Bin (4194304): \tTotal Chunks: 2, Chunks in use: 1. 15.26MiB allocated for chunks. 7.63MiB in use in bin. 3.81MiB client-requested in use in bin.\n",
      "2023-12-14 14:28:00.676899: I external/local_tsl/tsl/framework/bfc_allocator.cc:1046] Bin (8388608): \tTotal Chunks: 5, Chunks in use: 4. 76.29MiB allocated for chunks. 61.04MiB in use in bin. 61.04MiB client-requested in use in bin.\n",
      "2023-12-14 14:28:00.676902: I external/local_tsl/tsl/framework/bfc_allocator.cc:1046] Bin (16777216): \tTotal Chunks: 1, Chunks in use: 0. 30.52MiB allocated for chunks. 0B in use in bin. 0B client-requested in use in bin.\n",
      "2023-12-14 14:28:00.676905: I external/local_tsl/tsl/framework/bfc_allocator.cc:1046] Bin (33554432): \tTotal Chunks: 1, Chunks in use: 0. 61.04MiB allocated for chunks. 0B in use in bin. 0B client-requested in use in bin.\n",
      "2023-12-14 14:28:00.676908: I external/local_tsl/tsl/framework/bfc_allocator.cc:1046] Bin (67108864): \tTotal Chunks: 0, Chunks in use: 0. 0B allocated for chunks. 0B in use in bin. 0B client-requested in use in bin.\n",
      "2023-12-14 14:28:00.676922: I external/local_tsl/tsl/framework/bfc_allocator.cc:1046] Bin (134217728): \tTotal Chunks: 0, Chunks in use: 0. 0B allocated for chunks. 0B in use in bin. 0B client-requested in use in bin.\n",
      "2023-12-14 14:28:00.676924: I external/local_tsl/tsl/framework/bfc_allocator.cc:1046] Bin (268435456): \tTotal Chunks: 6, Chunks in use: 5. 8.89GiB allocated for chunks. 7.45GiB in use in bin. 7.45GiB client-requested in use in bin.\n",
      "2023-12-14 14:28:00.676928: I external/local_tsl/tsl/framework/bfc_allocator.cc:1062] Bin for 1.42PiB was 256.00MiB, Chunk State: \n",
      "2023-12-14 14:28:00.676933: I external/local_tsl/tsl/framework/bfc_allocator.cc:1068]   Size: 1.43GiB | Requested Size: 15.26MiB | in_use: 0 | bin_num: 20, prev:   Size: 1.49GiB | Requested Size: 1.49GiB | in_use: 1 | bin_num: -1\n",
      "2023-12-14 14:28:00.676935: I external/local_tsl/tsl/framework/bfc_allocator.cc:1075] Next region of size 9781116928\n",
      "2023-12-14 14:28:00.676938: I external/local_tsl/tsl/framework/bfc_allocator.cc:1095] InUse at 717600000 of size 1280 next 1\n",
      "2023-12-14 14:28:00.676940: I external/local_tsl/tsl/framework/bfc_allocator.cc:1095] InUse at 717600500 of size 256 next 2\n",
      "2023-12-14 14:28:00.676942: I external/local_tsl/tsl/framework/bfc_allocator.cc:1095] InUse at 717600600 of size 256 next 3\n",
      "2023-12-14 14:28:00.676944: I external/local_tsl/tsl/framework/bfc_allocator.cc:1095] InUse at 717600700 of size 256 next 4\n",
      "2023-12-14 14:28:00.676946: I external/local_tsl/tsl/framework/bfc_allocator.cc:1095] InUse at 717600800 of size 256 next 5\n",
      "2023-12-14 14:28:00.676948: I external/local_tsl/tsl/framework/bfc_allocator.cc:1095] InUse at 717600900 of size 256 next 6\n",
      "2023-12-14 14:28:00.676950: I external/local_tsl/tsl/framework/bfc_allocator.cc:1095] InUse at 717600a00 of size 4000000 next 7\n",
      "2023-12-14 14:28:00.676954: I external/local_tsl/tsl/framework/bfc_allocator.cc:1095] InUse at 7179d1300 of size 4000000 next 10\n",
      "2023-12-14 14:28:00.676956: I external/local_tsl/tsl/framework/bfc_allocator.cc:1095] InUse at 717da1c00 of size 4000000 next 8\n",
      "2023-12-14 14:28:00.676958: I external/local_tsl/tsl/framework/bfc_allocator.cc:1095] InUse at 718172500 of size 256 next 9\n",
      "2023-12-14 14:28:00.676960: I external/local_tsl/tsl/framework/bfc_allocator.cc:1095] InUse at 718172600 of size 256 next 13\n",
      "2023-12-14 14:28:00.676962: I external/local_tsl/tsl/framework/bfc_allocator.cc:1095] InUse at 718172700 of size 7999488 next 11\n",
      "2023-12-14 14:28:00.676964: I external/local_tsl/tsl/framework/bfc_allocator.cc:1095] InUse at 718913700 of size 4000000 next 12\n",
      "2023-12-14 14:28:00.676965: I external/local_tsl/tsl/framework/bfc_allocator.cc:1095] InUse at 718ce4000 of size 4000000 next 14\n",
      "2023-12-14 14:28:00.676968: I external/local_tsl/tsl/framework/bfc_allocator.cc:1095] Free  at 7190b4900 of size 256 next 34\n",
      "2023-12-14 14:28:00.676970: I external/local_tsl/tsl/framework/bfc_allocator.cc:1095] InUse at 7190b4a00 of size 256 next 28\n",
      "2023-12-14 14:28:00.676972: I external/local_tsl/tsl/framework/bfc_allocator.cc:1095] InUse at 7190b4b00 of size 256 next 36\n",
      "2023-12-14 14:28:00.676973: I external/local_tsl/tsl/framework/bfc_allocator.cc:1095] InUse at 7190b4c00 of size 256 next 41\n",
      "2023-12-14 14:28:00.676975: I external/local_tsl/tsl/framework/bfc_allocator.cc:1095] Free  at 7190b4d00 of size 999168 next 17\n",
      "2023-12-14 14:28:00.676977: I external/local_tsl/tsl/framework/bfc_allocator.cc:1095] InUse at 7191a8c00 of size 256 next 18\n",
      "2023-12-14 14:28:00.676980: I external/local_tsl/tsl/framework/bfc_allocator.cc:1095] InUse at 7191a8d00 of size 256 next 24\n",
      "2023-12-14 14:28:00.676982: I external/local_tsl/tsl/framework/bfc_allocator.cc:1095] Free  at 7191a8e00 of size 2999296 next 15\n",
      "2023-12-14 14:28:00.676984: I external/local_tsl/tsl/framework/bfc_allocator.cc:1095] InUse at 719485200 of size 4000000 next 16\n",
      "2023-12-14 14:28:00.676986: I external/local_tsl/tsl/framework/bfc_allocator.cc:1095] InUse at 719855b00 of size 4000000 next 19\n",
      "2023-12-14 14:28:00.676988: I external/local_tsl/tsl/framework/bfc_allocator.cc:1095] Free  at 719c26400 of size 8000000 next 21\n",
      "2023-12-14 14:28:00.676989: I external/local_tsl/tsl/framework/bfc_allocator.cc:1095] InUse at 71a3c7600 of size 4000000 next 22\n",
      "2023-12-14 14:28:00.676991: I external/local_tsl/tsl/framework/bfc_allocator.cc:1095] InUse at 71a797f00 of size 4000000 next 23\n",
      "2023-12-14 14:28:00.676993: I external/local_tsl/tsl/framework/bfc_allocator.cc:1095] InUse at 71ab68800 of size 4000000 next 25\n",
      "2023-12-14 14:28:00.676995: I external/local_tsl/tsl/framework/bfc_allocator.cc:1095] InUse at 71af39100 of size 4000000 next 26\n",
      "2023-12-14 14:28:00.676997: I external/local_tsl/tsl/framework/bfc_allocator.cc:1095] Free  at 71b309a00 of size 32000000 next 27\n",
      "2023-12-14 14:28:00.676999: I external/local_tsl/tsl/framework/bfc_allocator.cc:1095] InUse at 71d18e200 of size 16000000 next 37\n",
      "2023-12-14 14:28:00.677001: I external/local_tsl/tsl/framework/bfc_allocator.cc:1095] InUse at 71e0d0600 of size 16000000 next 29\n",
      "2023-12-14 14:28:00.677003: I external/local_tsl/tsl/framework/bfc_allocator.cc:1095] Free  at 71f012a00 of size 16000000 next 30\n",
      "2023-12-14 14:28:00.677005: I external/local_tsl/tsl/framework/bfc_allocator.cc:1095] InUse at 71ff54e00 of size 16000000 next 31\n",
      "2023-12-14 14:28:00.677007: I external/local_tsl/ts"
     ]
    },
    {
     "ename": "ResourceExhaustedError",
     "evalue": "{{function_node __wrapped__RandomStandardNormal_device_/job:localhost/replica:0/task:0/device:GPU:0}} OOM when allocating tensor with shape[20000000,20000000] and type float on /job:localhost/replica:0/task:0/device:GPU:0 by allocator GPU_0_bfc [Op:RandomStandardNormal] name: ",
     "output_type": "error",
     "traceback": [
      "\u001b[0;31m---------------------------------------------------------------------------\u001b[0m",
      "\u001b[0;31mResourceExhaustedError\u001b[0m                    Traceback (most recent call last)",
      "Cell \u001b[0;32mIn[21], line 9\u001b[0m\n\u001b[1;32m      7\u001b[0m \u001b[38;5;66;03m# Create two larger random matrices\u001b[39;00m\n\u001b[1;32m      8\u001b[0m matrix_size \u001b[38;5;241m=\u001b[39m \u001b[38;5;241m20000000\u001b[39m\n\u001b[0;32m----> 9\u001b[0m a \u001b[38;5;241m=\u001b[39m \u001b[43mtf\u001b[49m\u001b[38;5;241;43m.\u001b[39;49m\u001b[43mrandom\u001b[49m\u001b[38;5;241;43m.\u001b[39;49m\u001b[43mnormal\u001b[49m\u001b[43m(\u001b[49m\u001b[43m(\u001b[49m\u001b[43mmatrix_size\u001b[49m\u001b[43m,\u001b[49m\u001b[43m \u001b[49m\u001b[43mmatrix_size\u001b[49m\u001b[43m)\u001b[49m\u001b[43m)\u001b[49m\n\u001b[1;32m     10\u001b[0m b \u001b[38;5;241m=\u001b[39m tf\u001b[38;5;241m.\u001b[39mrandom\u001b[38;5;241m.\u001b[39mnormal((matrix_size, matrix_size))\n\u001b[1;32m     12\u001b[0m \u001b[38;5;66;03m# Warm-up run on GPU\u001b[39;00m\n",
      "File \u001b[0;32m/home/szymon/python/bitpredict/bit-predict/tfod/lib/python3.10/site-packages/tensorflow/python/util/traceback_utils.py:153\u001b[0m, in \u001b[0;36mfilter_traceback.<locals>.error_handler\u001b[0;34m(*args, **kwargs)\u001b[0m\n\u001b[1;32m    151\u001b[0m \u001b[38;5;28;01mexcept\u001b[39;00m \u001b[38;5;167;01mException\u001b[39;00m \u001b[38;5;28;01mas\u001b[39;00m e:\n\u001b[1;32m    152\u001b[0m   filtered_tb \u001b[38;5;241m=\u001b[39m _process_traceback_frames(e\u001b[38;5;241m.\u001b[39m__traceback__)\n\u001b[0;32m--> 153\u001b[0m   \u001b[38;5;28;01mraise\u001b[39;00m e\u001b[38;5;241m.\u001b[39mwith_traceback(filtered_tb) \u001b[38;5;28;01mfrom\u001b[39;00m \u001b[38;5;28;01mNone\u001b[39;00m\n\u001b[1;32m    154\u001b[0m \u001b[38;5;28;01mfinally\u001b[39;00m:\n\u001b[1;32m    155\u001b[0m   \u001b[38;5;28;01mdel\u001b[39;00m filtered_tb\n",
      "File \u001b[0;32m/home/szymon/python/bitpredict/bit-predict/tfod/lib/python3.10/site-packages/tensorflow/python/framework/ops.py:5883\u001b[0m, in \u001b[0;36mraise_from_not_ok_status\u001b[0;34m(e, name)\u001b[0m\n\u001b[1;32m   5881\u001b[0m \u001b[38;5;28;01mdef\u001b[39;00m \u001b[38;5;21mraise_from_not_ok_status\u001b[39m(e, name) \u001b[38;5;241m-\u001b[39m\u001b[38;5;241m>\u001b[39m NoReturn:\n\u001b[1;32m   5882\u001b[0m   e\u001b[38;5;241m.\u001b[39mmessage \u001b[38;5;241m+\u001b[39m\u001b[38;5;241m=\u001b[39m (\u001b[38;5;124m\"\u001b[39m\u001b[38;5;124m name: \u001b[39m\u001b[38;5;124m\"\u001b[39m \u001b[38;5;241m+\u001b[39m \u001b[38;5;28mstr\u001b[39m(name \u001b[38;5;28;01mif\u001b[39;00m name \u001b[38;5;129;01mis\u001b[39;00m \u001b[38;5;129;01mnot\u001b[39;00m \u001b[38;5;28;01mNone\u001b[39;00m \u001b[38;5;28;01melse\u001b[39;00m \u001b[38;5;124m\"\u001b[39m\u001b[38;5;124m\"\u001b[39m))\n\u001b[0;32m-> 5883\u001b[0m   \u001b[38;5;28;01mraise\u001b[39;00m core\u001b[38;5;241m.\u001b[39m_status_to_exception(e) \u001b[38;5;28;01mfrom\u001b[39;00m \u001b[38;5;28;01mNone\u001b[39;00m\n",
      "\u001b[0;31mResourceExhaustedError\u001b[0m: {{function_node __wrapped__RandomStandardNormal_device_/job:localhost/replica:0/task:0/device:GPU:0}} OOM when allocating tensor with shape[20000000,20000000] and type float on /job:localhost/replica:0/task:0/device:GPU:0 by allocator GPU_0_bfc [Op:RandomStandardNormal] name: "
     ]
    },
    {
     "name": "stderr",
     "output_type": "stream",
     "text": [
      "l/framework/bfc_allocator.cc:1095] Free  at 720e97200 of size 64000000 next 38\n",
      "2023-12-14 14:28:00.677009: I external/local_tsl/tsl/framework/bfc_allocator.cc:1095] InUse at 724ba0200 of size 16000000 next 39\n",
      "2023-12-14 14:28:00.677011: I external/local_tsl/tsl/framework/bfc_allocator.cc:1095] InUse at 725ae2600 of size 1600000000 next 33\n",
      "2023-12-14 14:28:00.677013: I external/local_tsl/tsl/framework/bfc_allocator.cc:1095] InUse at 7850c3600 of size 1600000000 next 40\n",
      "2023-12-14 14:28:00.677015: I external/local_tsl/tsl/framework/bfc_allocator.cc:1095] InUse at 7e46a4600 of size 1600000000 next 42\n",
      "2023-12-14 14:28:00.677017: I external/local_tsl/tsl/framework/bfc_allocator.cc:1095] InUse at 843c85600 of size 1600000000 next 20\n",
      "2023-12-14 14:28:00.677019: I external/local_tsl/tsl/framework/bfc_allocator.cc:1095] InUse at 8a3266600 of size 1600000000 next 32\n",
      "2023-12-14 14:28:00.677021: I external/local_tsl/tsl/framework/bfc_allocator.cc:1095] Free  at 902847600 of size 1541114368 next 18446744073709551615\n",
      "2023-12-14 14:28:00.677023: I external/local_tsl/tsl/framework/bfc_allocator.cc:1100]      Summary of in-use Chunks by size: \n",
      "2023-12-14 14:28:00.677026: I external/local_tsl/tsl/framework/bfc_allocator.cc:1103] 12 Chunks of size 256 totalling 3.0KiB\n",
      "2023-12-14 14:28:00.677029: I external/local_tsl/tsl/framework/bfc_allocator.cc:1103] 1 Chunks of size 1280 totalling 1.2KiB\n",
      "2023-12-14 14:28:00.677031: I external/local_tsl/tsl/framework/bfc_allocator.cc:1103] 11 Chunks of size 4000000 totalling 41.96MiB\n",
      "2023-12-14 14:28:00.677033: I external/local_tsl/tsl/framework/bfc_allocator.cc:1103] 1 Chunks of size 7999488 totalling 7.63MiB\n",
      "2023-12-14 14:28:00.677036: I external/local_tsl/tsl/framework/bfc_allocator.cc:1103] 4 Chunks of size 16000000 totalling 61.04MiB\n",
      "2023-12-14 14:28:00.677038: I external/local_tsl/tsl/framework/bfc_allocator.cc:1103] 5 Chunks of size 1600000000 totalling 7.45GiB\n",
      "2023-12-14 14:28:00.677040: I external/local_tsl/tsl/framework/bfc_allocator.cc:1107] Sum Total of in-use chunks: 7.56GiB\n",
      "2023-12-14 14:28:00.677043: I external/local_tsl/tsl/framework/bfc_allocator.cc:1109] Total bytes in pool: 9781116928 memory_limit_: 9781116928 available bytes: 0 curr_region_allocation_bytes_: 19562233856\n",
      "2023-12-14 14:28:00.677049: I external/local_tsl/tsl/framework/bfc_allocator.cc:1114] Stats: \n",
      "Limit:                      9781116928\n",
      "InUse:                      8116003840\n",
      "MaxInUse:                   8116003840\n",
      "NumAllocs:                         151\n",
      "MaxAllocSize:               1600000000\n",
      "Reserved:                            0\n",
      "PeakReserved:                        0\n",
      "LargestFreeBlock:                    0\n",
      "\n",
      "2023-12-14 14:28:00.677053: W external/local_tsl/tsl/framework/bfc_allocator.cc:497] *************************************************************************************_______________\n",
      "2023-12-14 14:28:00.677067: W tensorflow/core/framework/op_kernel.cc:1839] OP_REQUIRES failed at random_op.cc:74 : RESOURCE_EXHAUSTED: OOM when allocating tensor with shape[20000000,20000000] and type float on /job:localhost/replica:0/task:0/device:GPU:0 by allocator GPU_0_bfc\n"
     ]
    }
   ],
   "source": [
    "\n",
    "# Check if a GPU is available\n",
    "if tf.test.gpu_device_name():\n",
    "    print('Default GPU Device: {}'.format(tf.test.gpu_device_name()))\n",
    "else:\n",
    "    print(\"No GPU devices found. Please make sure you have TensorFlow GPU installed.\")\n",
    "\n",
    "# Create two larger random matrices\n",
    "matrix_size = 20000000\n",
    "a = tf.random.normal((matrix_size, matrix_size))\n",
    "b = tf.random.normal((matrix_size, matrix_size))\n",
    "\n",
    "# Warm-up run on GPU\n",
    "with tf.device('/GPU:0'):\n",
    "    tf.matmul(a, b)\n",
    "\n",
    "# Timing the matrix multiplication on GPU\n",
    "start_time_gpu = time.time()\n",
    "with tf.device('/GPU:0'):\n",
    "    result_gpu = tf.matmul(a, b)\n",
    "end_time_gpu = time.time()\n",
    "\n",
    "# Warm-up run on CPU\n",
    "with tf.device('/CPU:0'):\n",
    "    tf.matmul(a, b)\n",
    "\n",
    "# Timing the matrix multiplication on CPU\n",
    "# start_time_cpu = time.time()\n",
    "# with tf.device('/CPU:0'):\n",
    "#     result_cpu = tf.matmul(a, b)\n",
    "# end_time_cpu = time.time()\n",
    "\n",
    "print(\"Matrix multiplication on GPU took {:.4f} seconds\".format(end_time_gpu - start_time_gpu))\n",
    "print(\"Matrix multiplication on CPU took {:.4f} seconds\".format(end_time_cpu - start_time_cpu))\n",
    "\n",
    "# Verify that the results are approximately the same\n",
    "if tf.debugging.assert_near(result_gpu, result_cpu, rtol=1e-4, atol=1e-6):\n",
    "    print(\"Results approximately match!\")\n",
    "else:\n",
    "    print(\"Results do not match. There might be numerical differences between GPU and CPU computations.\")\n"
   ]
  },
  {
   "cell_type": "code",
   "execution_count": null,
   "id": "2a4ce7fd-cd0b-4d99-bc5e-8063b17abc8b",
   "metadata": {},
   "outputs": [],
   "source": []
  }
 ],
 "metadata": {
  "kernelspec": {
   "display_name": "tfod",
   "language": "python",
   "name": "tfod"
  },
  "language_info": {
   "codemirror_mode": {
    "name": "ipython",
    "version": 3
   },
   "file_extension": ".py",
   "mimetype": "text/x-python",
   "name": "python",
   "nbconvert_exporter": "python",
   "pygments_lexer": "ipython3",
   "version": "3.10.12"
  }
 },
 "nbformat": 4,
 "nbformat_minor": 5
}
